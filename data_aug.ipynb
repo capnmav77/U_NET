{
 "cells": [
  {
   "cell_type": "code",
   "execution_count": 1,
   "metadata": {},
   "outputs": [],
   "source": [
    "import torch\n",
    "import torch.nn as nn\n",
    "import os \n",
    "import numpy as np\n",
    "import cv2\n",
    "from glob import glob \n",
    "from tqdm import tqdm \n",
    "import imageio\n",
    "from albumentations import HorizontalFlip,VerticalFlip,Rotate"
   ]
  },
  {
   "cell_type": "code",
   "execution_count": 2,
   "metadata": {},
   "outputs": [],
   "source": [
    "def create_dir(path):\n",
    "    if not os.path.exists(path):\n",
    "        os.makedirs(path)\n",
    "\n",
    "def create_req_dirs():\n",
    "    create_dir('new_data/train/images')\n",
    "    create_dir('new_data/train/masks')\n",
    "    create_dir('new_data/test/images')\n",
    "    create_dir('new_data/test/masks')\n",
    "\n",
    "\n",
    "def load_data(path):\n",
    "\n",
    "    \n",
    "\n",
    "    train_x = sorted(glob(os.path.join(path,'training','images','*.tif')))\n",
    "    train_y = sorted(glob(os.path.join(path,'training','1st_manual','*.gif')))\n",
    "    # print(train_x)\n",
    "    # print(train_y)\n",
    "\n",
    "    test_x = sorted(glob(os.path.join(path,'test','images','*.tif')))\n",
    "    test_y = sorted(glob(os.path.join(path,'test','1st_manual','*.gif')))\n",
    "    # print(test_x)\n",
    "    # print(test_y)\n",
    "\n",
    "    return train_x,train_y,test_x,test_y"
   ]
  },
  {
   "cell_type": "code",
   "execution_count": 6,
   "metadata": {},
   "outputs": [],
   "source": [
    "def augment_data(images,masks,save_path,augment=True):\n",
    "    size = (512,512)\n",
    "\n",
    "\n",
    "    for idx,(x,y) in tqdm(enumerate(zip(images,masks)),total=len(images)):\n",
    "        #extracting the name\n",
    "        name = x.split('\\\\')[-1].split('.')[0]\n",
    "        \n",
    "        \"reading the image and mask\"\n",
    "        x = cv2.imread(x,cv2.IMREAD_COLOR)\n",
    "        y = imageio.mimread(y)[0] #since it is a gif file it doesnt have channels i.e it is a 2d array without rgb channels\n",
    "         \n",
    "\n",
    "        if augment == True:\n",
    "            aug = HorizontalFlip(p=1.0) #p is the probability of the image being augmented\n",
    "            augmented = aug(image=x,mask=y)\n",
    "            x1 = augmented['image']\n",
    "            y1 = augmented['mask']\n",
    "\n",
    "            aug = VerticalFlip(p=1.0) #p is the probability of the image being augmented\n",
    "            augmented = aug(image=x,mask=y)\n",
    "            x2 = augmented['image']\n",
    "            y2 = augmented['mask']\n",
    "\n",
    "            aug = Rotate(limit=45,p=1.0) #p is the probability of the image being augmented\n",
    "            augmented = aug(image=x,mask=y)\n",
    "            x3 = augmented['image']\n",
    "            y3 = augmented['mask']\n",
    "            \n",
    "            X = [x,x1,x2,x3]\n",
    "            Y = [y,y1,y2,y3]\n",
    "\n",
    "        else:\n",
    "            X = [x]\n",
    "            Y = [y]\n",
    "\n",
    "        \"for resizing the image to the required size\"\n",
    "        index=0 \n",
    "        for i,m in zip(X,Y):\n",
    "            i = cv2.resize(i,size)\n",
    "            m = cv2.resize(m,size)\n",
    "            \n",
    "            tmp_image_name = f'{name}_{index}.png'\n",
    "            tmp_mask_name = f'{name}_{index}.png'\n",
    "\n",
    "            image_path = os.path.join(save_path,'images',tmp_image_name)\n",
    "            mask_path = os.path.join(save_path,'masks',tmp_mask_name)\n",
    "\n",
    "            cv2.imwrite(image_path,i)\n",
    "            cv2.imwrite(mask_path,m)\n",
    "\n",
    "            index+=1\n",
    "\n",
    "        "
   ]
  },
  {
   "cell_type": "code",
   "execution_count": 8,
   "metadata": {},
   "outputs": [
    {
     "name": "stderr",
     "output_type": "stream",
     "text": [
      "100%|██████████| 20/20 [00:02<00:00,  9.97it/s]\n",
      "100%|██████████| 20/20 [00:00<00:00, 22.28it/s]\n"
     ]
    }
   ],
   "source": [
    "if __name__ == \"__main__\":\n",
    "    \"seeding\"\n",
    "    np.random.seed(42)\n",
    "\n",
    "    \"load the data\"\n",
    "    data_path = './data'\n",
    "    train_x,train_y,test_x,test_y = load_data(data_path)\n",
    "\n",
    "\n",
    "    \"create directories to save the augmented images\"\n",
    "    create_req_dirs()\n",
    "\n",
    "    \"define the augmentations\"\n",
    "    augment_data(train_x,train_y,'new_data/train',augment=True)\n",
    "    augment_data(test_x,test_y,'new_data/test',augment=False)\n"
   ]
  },
  {
   "cell_type": "code",
   "execution_count": null,
   "metadata": {},
   "outputs": [],
   "source": []
  }
 ],
 "metadata": {
  "kernelspec": {
   "display_name": "Python 3",
   "language": "python",
   "name": "python3"
  },
  "language_info": {
   "codemirror_mode": {
    "name": "ipython",
    "version": 3
   },
   "file_extension": ".py",
   "mimetype": "text/x-python",
   "name": "python",
   "nbconvert_exporter": "python",
   "pygments_lexer": "ipython3",
   "version": "3.10.10"
  },
  "orig_nbformat": 4
 },
 "nbformat": 4,
 "nbformat_minor": 2
}
